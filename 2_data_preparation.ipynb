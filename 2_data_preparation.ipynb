{
 "cells": [
  {
   "cell_type": "code",
   "execution_count": 1,
   "metadata": {},
   "outputs": [
    {
     "name": "stderr",
     "output_type": "stream",
     "text": [
      "  % Total    % Received % Xferd  Average Speed   Time    Time     Time  Current\n",
      "                                 Dload  Upload   Total   Spent    Left  Speed\n",
      "\n",
      "  0     0    0     0    0     0      0      0 --:--:-- --:--:-- --:--:--     0\n",
      "  0     0    0     0    0     0      0      0 --:--:-- --:--:-- --:--:--     0\n",
      "100   893  100   893    0     0   2111      0 --:--:-- --:--:-- --:--:--  2151\n",
      "\n",
      "  5 51.4M    5 2670k    0     0  2178k      0  0:00:24  0:00:01  0:00:23 2178k\n",
      " 21 51.4M   21 10.8M    0     0  5001k      0  0:00:10  0:00:02  0:00:08 8464k\n",
      " 42 51.4M   42 21.8M    0     0  6933k      0  0:00:07  0:00:03  0:00:04 9848k\n",
      " 67 51.4M   67 34.8M    0     0  8439k      0  0:00:06  0:00:04  0:00:02 10.7M\n",
      " 93 51.4M   93 48.1M    0     0  9435k      0  0:00:05  0:00:05 --:--:-- 11.3M\n",
      "100 51.4M  100 51.4M    0     0  9559k      0  0:00:05  0:00:05 --:--:-- 11.3M\n",
      "  % Total    % Received % Xferd  Average Speed   Time    Time     Time  Current\n",
      "                                 Dload  Upload   Total   Spent    Left  Speed\n",
      "\n",
      "  0     0    0     0    0     0      0      0 --:--:-- --:--:-- --:--:--     0curl: (6) Could not resolve host: ;\n",
      "  % Total    % Received % Xferd  Average Speed   Time    Time     Time  Current\n",
      "                                 Dload  Upload   Total   Spent    Left  Speed\n",
      "\n",
      "  0     0    0     0    0     0      0      0 --:--:-- --:--:-- --:--:--     0\n",
      "  0     0    0     0    0     0      0      0 --:--:-- --:--:-- --:--:--     0\n",
      "  0     0    0     0    0     0      0      0 --:--:--  0:00:01 --:--:--     0curl: (6) Could not resolve host: unzip\n",
      "  % Total    % Received % Xferd  Average Speed   Time    Time     Time  Current\n",
      "                                 Dload  Upload   Total   Spent    Left  Speed\n",
      "\n",
      "  0     0    0     0    0     0      0      0 --:--:-- --:--:-- --:--:--     0curl: (6) Could not resolve host: roboflow.zip;\n",
      "  % Total    % Received % Xferd  Average Speed   Time    Time     Time  Current\n",
      "                                 Dload  Upload   Total   Spent    Left  Speed\n",
      "\n",
      "  0     0    0     0    0     0      0      0 --:--:-- --:--:-- --:--:--     0\n",
      "  0     0    0     0    0     0      0      0 --:--:--  0:00:01 --:--:--     0\n",
      "  0     0    0     0    0     0      0      0 --:--:--  0:00:02 --:--:--     0curl: (6) Could not resolve host: rm\n",
      "  % Total    % Received % Xferd  Average Speed   Time    Time     Time  Current\n",
      "                                 Dload  Upload   Total   Spent    Left  Speed\n",
      "\n",
      "  0     0    0     0    0     0      0      0 --:--:-- --:--:-- --:--:--     0curl: (6) Could not resolve host: roboflow.zip\n"
     ]
    }
   ],
   "source": [
    "# download images from Roboflow\n",
    "!curl -L \"https://public.roboflow.com/ds/CyiuTjyapU?key=4iKKLyUoqR\" > roboflow.zip; unzip roboflow.zip; rm roboflow.zip"
   ]
  },
  {
   "cell_type": "code",
   "execution_count": 4,
   "metadata": {},
   "outputs": [],
   "source": [
    "import zipfile\n",
    "import os\n",
    "\n",
    "# unzip dataset\n",
    "with zipfile.ZipFile(\"roboflow.zip\",\"r\") as zip_ref:\n",
    "    zip_ref.extractall(\"\")\n",
    "\n",
    "# delete zip file\n",
    "os.remove(\"roboflow.zip\")"
   ]
  },
  {
   "cell_type": "code",
   "execution_count": 6,
   "metadata": {},
   "outputs": [],
   "source": [
    "import numpy as np\n",
    "import shutil\n",
    "\n",
    "TEST_SIZE = 0.2\n",
    "\n",
    "# split data\n",
    "path = 'train'\n",
    "if not os.path.exists(path):\n",
    "  os.makedirs(path)\n",
    "  os.makedirs(path+'/labels')\n",
    "  os.makedirs(path+'/images')\n",
    "\n",
    "path = 'valid'\n",
    "if not os.path.exists(path):\n",
    "  os.makedirs(path)\n",
    "  os.makedirs(path+'/labels')\n",
    "  os.makedirs(path+'/images')\n",
    "\n",
    "# split labels\n",
    "path_labels = os.listdir('export/labels')\n",
    "np.random.shuffle(path_labels)\n",
    "train_labels, valid_labels = np.split(np.array(path_labels), [int(len(path_labels)* (1 - TEST_SIZE))])\n",
    "\n",
    "# move to train folders\n",
    "for train_label in train_labels:\n",
    "  # rename file name\n",
    "  train_image = train_label.replace('.txt','.jpg')\n",
    "  # labels\n",
    "  shutil.move(os.path.join('export/labels', train_label), os.path.join('train/labels', train_label))\n",
    "  # images\n",
    "  shutil.move(os.path.join('export/images', train_image), os.path.join('train/images', train_image))\n",
    "\n",
    "# move to valid folders\n",
    "for valid_label in valid_labels:\n",
    "  # rename file name\n",
    "  valid_image = valid_label.replace('.txt','.jpg')\n",
    "  # labels\n",
    "  shutil.move(os.path.join('export/labels', valid_label), os.path.join('valid/labels', valid_label))\n",
    "  # images\n",
    "  shutil.move(os.path.join('export/images', valid_image), os.path.join('valid/images', valid_image))\n",
    "\n",
    "# delete original folders\n",
    "shutil.rmtree('export/labels')\n",
    "shutil.rmtree('export/images')\n",
    "shutil.rmtree('export')"
   ]
  }
 ],
 "metadata": {
  "kernelspec": {
   "display_name": "base",
   "language": "python",
   "name": "python3"
  },
  "language_info": {
   "codemirror_mode": {
    "name": "ipython",
    "version": 3
   },
   "file_extension": ".py",
   "mimetype": "text/x-python",
   "name": "python",
   "nbconvert_exporter": "python",
   "pygments_lexer": "ipython3",
   "version": "3.9.12"
  },
  "orig_nbformat": 4
 },
 "nbformat": 4,
 "nbformat_minor": 2
}
