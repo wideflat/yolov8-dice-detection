{
 "cells": [
  {
   "cell_type": "code",
   "execution_count": 1,
   "metadata": {},
   "outputs": [],
   "source": [
    "import zipfile\n",
    "import os\n",
    "import numpy as np\n",
    "import shutil\n",
    "\n",
    "TEST_SIZE = 0.2"
   ]
  },
  {
   "cell_type": "code",
   "execution_count": 2,
   "metadata": {},
   "outputs": [
    {
     "name": "stderr",
     "output_type": "stream",
     "text": [
      "  % Total    % Received % Xferd  Average Speed   Time    Time     Time  Current\n",
      "                                 Dload  Upload   Total   Spent    Left  Speed\n",
      "\n",
      "  0     0    0     0    0     0      0      0 --:--:-- --:--:-- --:--:--     0\n",
      "  0     0    0     0    0     0      0      0 --:--:-- --:--:-- --:--:--     0\n",
      "100   893  100   893    0     0   1343      0 --:--:-- --:--:-- --:--:--  1363\n",
      "\n",
      "  0 51.4M    0 63317    0     0  61843      0  0:14:32  0:00:01  0:14:31 61843\n",
      " 16 51.4M   16 8926k    0     0  4409k      0  0:00:11  0:00:02  0:00:09 8864k\n",
      " 41 51.4M   41 21.3M    0     0  7228k      0  0:00:07  0:00:03  0:00:04 10.6M\n",
      " 65 51.4M   65 33.9M    0     0  8636k      0  0:00:06  0:00:04  0:00:02 11.2M\n",
      " 90 51.4M   90 46.6M    0     0  9515k      0  0:00:05  0:00:05 --:--:-- 11.6M\n",
      "100 51.4M  100 51.4M    0     0  9757k      0  0:00:05  0:00:05 --:--:-- 11.7M\n",
      "  % Total    % Received % Xferd  Average Speed   Time    Time     Time  Current\n",
      "                                 Dload  Upload   Total   Spent    Left  Speed\n",
      "\n",
      "  0     0    0     0    0     0      0      0 --:--:-- --:--:-- --:--:--     0curl: (6) Could not resolve host: ;\n",
      "  % Total    % Received % Xferd  Average Speed   Time    Time     Time  Current\n",
      "                                 Dload  Upload   Total   Spent    Left  Speed\n",
      "\n",
      "  0     0    0     0    0     0      0      0 --:--:-- --:--:-- --:--:--     0\n",
      "  0     0    0     0    0     0      0      0 --:--:-- --:--:-- --:--:--     0\n",
      "  0     0    0     0    0     0      0      0 --:--:--  0:00:01 --:--:--     0curl: (6) Could not resolve host: unzip\n",
      "  % Total    % Received % Xferd  Average Speed   Time    Time     Time  Current\n",
      "                                 Dload  Upload   Total   Spent    Left  Speed\n",
      "\n",
      "  0     0    0     0    0     0      0      0 --:--:-- --:--:-- --:--:--     0curl: (6) Could not resolve host: roboflow.zip;\n",
      "  % Total    % Received % Xferd  Average Speed   Time    Time     Time  Current\n",
      "                                 Dload  Upload   Total   Spent    Left  Speed\n",
      "\n",
      "  0     0    0     0    0     0      0      0 --:--:-- --:--:-- --:--:--     0\n",
      "  0     0    0     0    0     0      0      0 --:--:--  0:00:01 --:--:--     0\n",
      "  0     0    0     0    0     0      0      0 --:--:--  0:00:01 --:--:--     0curl: (6) Could not resolve host: rm\n",
      "  % Total    % Received % Xferd  Average Speed   Time    Time     Time  Current\n",
      "                                 Dload  Upload   Total   Spent    Left  Speed\n",
      "\n",
      "  0     0    0     0    0     0      0      0 --:--:-- --:--:-- --:--:--     0curl: (6) Could not resolve host: roboflow.zip\n"
     ]
    }
   ],
   "source": [
    "# download images from Roboflow\n",
    "!curl -L \"https://public.roboflow.com/ds/CyiuTjyapU?key=4iKKLyUoqR\" > roboflow.zip; unzip roboflow.zip; rm roboflow.zip\n",
    "\n",
    "# unzip dataset\n",
    "with zipfile.ZipFile(\"roboflow.zip\",\"r\") as zip_ref:\n",
    "    zip_ref.extractall(\"\")\n",
    "\n",
    "# delete zip file\n",
    "os.remove(\"roboflow.zip\")"
   ]
  },
  {
   "cell_type": "code",
   "execution_count": 3,
   "metadata": {},
   "outputs": [],
   "source": [
    "# split data\n",
    "path = 'train'\n",
    "if not os.path.exists(path):\n",
    "  os.makedirs(path)\n",
    "  os.makedirs(path+'/labels')\n",
    "  os.makedirs(path+'/images')\n",
    "\n",
    "path = 'valid'\n",
    "if not os.path.exists(path):\n",
    "  os.makedirs(path)\n",
    "  os.makedirs(path+'/labels')\n",
    "  os.makedirs(path+'/images')\n",
    "\n",
    "# split labels\n",
    "path_labels = os.listdir('export/labels')\n",
    "np.random.shuffle(path_labels)\n",
    "train_labels, valid_labels = np.split(np.array(path_labels), [int(len(path_labels)* (1 - TEST_SIZE))])\n",
    "\n",
    "# move to train folders\n",
    "for train_label in train_labels:\n",
    "  # rename file name\n",
    "  train_image = train_label.replace('.txt','.jpg')\n",
    "  # labels\n",
    "  shutil.move(os.path.join('export/labels', train_label), os.path.join('train/labels', train_label))\n",
    "  # images\n",
    "  shutil.move(os.path.join('export/images', train_image), os.path.join('train/images', train_image))\n",
    "\n",
    "# move to valid folders\n",
    "for valid_label in valid_labels:\n",
    "  # rename file name\n",
    "  valid_image = valid_label.replace('.txt','.jpg')\n",
    "  # labels\n",
    "  shutil.move(os.path.join('export/labels', valid_label), os.path.join('valid/labels', valid_label))\n",
    "  # images\n",
    "  shutil.move(os.path.join('export/images', valid_image), os.path.join('valid/images', valid_image))\n",
    "\n",
    "# delete original folders\n",
    "shutil.rmtree('export/labels')\n",
    "shutil.rmtree('export/images')\n",
    "shutil.rmtree('export')"
   ]
  }
 ],
 "metadata": {
  "kernelspec": {
   "display_name": "base",
   "language": "python",
   "name": "python3"
  },
  "language_info": {
   "codemirror_mode": {
    "name": "ipython",
    "version": 3
   },
   "file_extension": ".py",
   "mimetype": "text/x-python",
   "name": "python",
   "nbconvert_exporter": "python",
   "pygments_lexer": "ipython3",
   "version": "3.9.12"
  },
  "orig_nbformat": 4
 },
 "nbformat": 4,
 "nbformat_minor": 2
}
